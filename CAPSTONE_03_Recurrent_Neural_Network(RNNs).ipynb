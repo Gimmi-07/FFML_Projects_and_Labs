{
  "nbformat": 4,
  "nbformat_minor": 0,
  "metadata": {
    "colab": {
      "provenance": [],
      "include_colab_link": true
    },
    "kernelspec": {
      "name": "python3",
      "display_name": "Python 3"
    },
    "language_info": {
      "name": "python"
    }
  },
  "cells": [
    {
      "cell_type": "markdown",
      "metadata": {
        "id": "view-in-github",
        "colab_type": "text"
      },
      "source": [
        "<a href=\"https://colab.research.google.com/github/Gimmi-07/FFML_Projects_and_Labs/blob/main/CAPSTONE_03_Recurrent_Neural_Network(RNNs).ipynb\" target=\"_parent\"><img src=\"https://colab.research.google.com/assets/colab-badge.svg\" alt=\"Open In Colab\"/></a>"
      ]
    },
    {
      "cell_type": "markdown",
      "source": [
        "# **Recurrent Neural Network**\n",
        "\n",
        "We will explore the concept of the Recurrent Neural Network.\n",
        "\n",
        "Recurrent Neural Networks (RNNs) are a type of neural network designed for processing sequences of data. Unlike traditional neural networks, which assume that inputs are independent of each other, RNNs consider the order and dependencies between elements in a sequence. This makes them particularly useful for tasks like language modeling, speech recognition, and time series prediction.\n",
        "\n",
        "In an RNN, information cycles through a loop, allowing it to maintain a memory of previous inputs and make decisions based on the context of the entire sequence. However, RNNs can struggle with long-term dependencies, which has led to the development of more advanced architectures like LSTM (Long Short-Term Memory) and GRU (Gated Recurrent Unit) networks that better handle these challenges.\n",
        "\n",
        "We will take an program which will help to understand how the RNNs works.This program will cover the basic structure and steps involved in building and training an RNN."
      ],
      "metadata": {
        "id": "irQINaQTaBGI"
      }
    },
    {
      "cell_type": "markdown",
      "source": [
        "## 1. Importing Libraries\n",
        "Firstly , we need to import the necessary libraries in the program. We are going to prefer the PyTorch Library."
      ],
      "metadata": {
        "id": "6-HtY8pscPEr"
      }
    },
    {
      "cell_type": "code",
      "execution_count": null,
      "metadata": {
        "id": "f23KZ5TpZr8t"
      },
      "outputs": [],
      "source": [
        "import torch\n",
        "import torch.nn as nn\n",
        "import torch.optim as optim\n",
        "from torch.utils.data import DataLoader, Dataset\n"
      ]
    },
    {
      "cell_type": "markdown",
      "source": [
        "## 2. Creating a Simple Dataset\n",
        "\n",
        "For this example, we are going to create a simple dataset. We'll generate some dummy sequential data for training and testing the RNN."
      ],
      "metadata": {
        "id": "Oa7Np8NpconV"
      }
    },
    {
      "cell_type": "code",
      "source": [
        "class SimpleDataset(Dataset):\n",
        "    def __init__(self, data_size=1000, seq_len=10):\n",
        "        self.data_size = data_size\n",
        "        self.seq_len = seq_len\n",
        "        self.data = torch.randn(data_size, seq_len, 1)\n",
        "        self.labels = torch.randint(0, 2, (data_size,))\n",
        "\n",
        "    def __len__(self):\n",
        "        return self.data_size\n",
        "\n",
        "    def __getitem__(self, idx):\n",
        "        return self.data[idx], self.labels[idx]\n",
        "\n",
        "train_dataset = SimpleDataset(data_size=1000, seq_len=10)\n",
        "train_loader = DataLoader(train_dataset, batch_size=32, shuffle=True)\n",
        "\n",
        "test_dataset = SimpleDataset(data_size=200, seq_len=10)\n",
        "test_loader = DataLoader(test_dataset, batch_size=32, shuffle=False)\n"
      ],
      "metadata": {
        "id": "92HS4P3zc4Up"
      },
      "execution_count": null,
      "outputs": []
    },
    {
      "cell_type": "markdown",
      "source": [
        "## 3. Defining the RNN Model\n",
        "We are going to define a simple RNN model."
      ],
      "metadata": {
        "id": "dBb8aLQ4c7GZ"
      }
    },
    {
      "cell_type": "code",
      "source": [
        "class SimpleRNN(nn.Module):\n",
        "    def __init__(self, input_size, hidden_size, output_size, num_layers=1):\n",
        "        super(SimpleRNN, self).__init__()\n",
        "        self.hidden_size = hidden_size\n",
        "        self.num_layers = num_layers\n",
        "        self.rnn = nn.RNN(input_size, hidden_size, num_layers, batch_first=True)\n",
        "        self.fc = nn.Linear(hidden_size, output_size)\n",
        "\n",
        "    def forward(self, x):\n",
        "        h0 = torch.zeros(self.num_layers, x.size(0), self.hidden_size).to(x.device)\n",
        "        out, _ = self.rnn(x, h0)\n",
        "        out = out[:, -1, :]  # Take the last output of the sequence\n",
        "        out = self.fc(out)\n",
        "        return out\n",
        "\n",
        "# Device configuration\n",
        "device = torch.device('cuda' if torch.cuda.is_available() else 'cpu')\n",
        "\n",
        "input_size = 1\n",
        "hidden_size = 16\n",
        "output_size = 2\n",
        "num_layers = 1\n",
        "\n",
        "net = SimpleRNN(input_size, hidden_size, output_size, num_layers).to(device)\n"
      ],
      "metadata": {
        "id": "cAnw9mqsdJ5E"
      },
      "execution_count": null,
      "outputs": []
    },
    {
      "cell_type": "markdown",
      "source": [
        "## 4. Defining the Loss Function and Optimizer\n",
        "\n",
        "We are going to specify the loss function and the optimizer for this Model."
      ],
      "metadata": {
        "id": "Y-G02DvJdORk"
      }
    },
    {
      "cell_type": "code",
      "source": [
        "criterion = nn.CrossEntropyLoss()\n",
        "optimizer = optim.Adam(net.parameters(), lr=0.001)\n"
      ],
      "metadata": {
        "id": "89x-12hjdXr5"
      },
      "execution_count": null,
      "outputs": []
    },
    {
      "cell_type": "markdown",
      "source": [
        "## 5. Training the Model\n",
        "We are training the model on the training data."
      ],
      "metadata": {
        "id": "KYfTc7efdcFs"
      }
    },
    {
      "cell_type": "code",
      "source": [
        "num_epochs = 10\n",
        "\n",
        "for epoch in range(num_epochs):\n",
        "    running_loss = 0.0\n",
        "    for i, (inputs, labels) in enumerate(train_loader):\n",
        "        # Move tensors to the correct device\n",
        "        inputs, labels = inputs.to(device), labels.to(device)\n",
        "\n",
        "        # Zero the parameter gradients\n",
        "        optimizer.zero_grad()\n",
        "\n",
        "        # Forward pass\n",
        "        outputs = net(inputs)\n",
        "        loss = criterion(outputs, labels)\n",
        "\n",
        "        # Backward pass and optimization\n",
        "        loss.backward()\n",
        "        optimizer.step()\n",
        "\n",
        "        running_loss += loss.item()\n",
        "        if i % 10 == 9:\n",
        "            print(f'Epoch {epoch + 1}, Batch {i + 1}, Loss: {running_loss / 10:.3f}')\n",
        "            running_loss = 0.0\n",
        "\n",
        "print('Finished Training')\n"
      ],
      "metadata": {
        "colab": {
          "base_uri": "https://localhost:8080/"
        },
        "id": "yV0lZmqRdnYm",
        "outputId": "17079262-c3b5-4f3d-e7ec-5fd351a806ae"
      },
      "execution_count": null,
      "outputs": [
        {
          "output_type": "stream",
          "name": "stdout",
          "text": [
            "Epoch 1, Batch 10, Loss: 0.708\n",
            "Epoch 1, Batch 20, Loss: 0.692\n",
            "Epoch 1, Batch 30, Loss: 0.691\n",
            "Epoch 2, Batch 10, Loss: 0.699\n",
            "Epoch 2, Batch 20, Loss: 0.692\n",
            "Epoch 2, Batch 30, Loss: 0.692\n",
            "Epoch 3, Batch 10, Loss: 0.690\n",
            "Epoch 3, Batch 20, Loss: 0.695\n",
            "Epoch 3, Batch 30, Loss: 0.694\n",
            "Epoch 4, Batch 10, Loss: 0.694\n",
            "Epoch 4, Batch 20, Loss: 0.691\n",
            "Epoch 4, Batch 30, Loss: 0.693\n",
            "Epoch 5, Batch 10, Loss: 0.692\n",
            "Epoch 5, Batch 20, Loss: 0.693\n",
            "Epoch 5, Batch 30, Loss: 0.694\n",
            "Epoch 6, Batch 10, Loss: 0.693\n",
            "Epoch 6, Batch 20, Loss: 0.691\n",
            "Epoch 6, Batch 30, Loss: 0.692\n",
            "Epoch 7, Batch 10, Loss: 0.695\n",
            "Epoch 7, Batch 20, Loss: 0.692\n",
            "Epoch 7, Batch 30, Loss: 0.691\n",
            "Epoch 8, Batch 10, Loss: 0.691\n",
            "Epoch 8, Batch 20, Loss: 0.693\n",
            "Epoch 8, Batch 30, Loss: 0.692\n",
            "Epoch 9, Batch 10, Loss: 0.689\n",
            "Epoch 9, Batch 20, Loss: 0.692\n",
            "Epoch 9, Batch 30, Loss: 0.693\n",
            "Epoch 10, Batch 10, Loss: 0.690\n",
            "Epoch 10, Batch 20, Loss: 0.693\n",
            "Epoch 10, Batch 30, Loss: 0.694\n",
            "Finished Training\n"
          ]
        }
      ]
    },
    {
      "cell_type": "markdown",
      "source": [
        "## 6. Evaluating the Model\n",
        "\n",
        "We are going to evaluate the model on the test data."
      ],
      "metadata": {
        "id": "5BfnVbUXeknr"
      }
    },
    {
      "cell_type": "code",
      "source": [
        "correct = 0\n",
        "total = 0\n",
        "with torch.no_grad():\n",
        "    for inputs, labels in test_loader:\n",
        "        inputs, labels = inputs.to(device), labels.to(device)\n",
        "        outputs = net(inputs)\n",
        "        _, predicted = torch.max(outputs.data, 1)\n",
        "        total += labels.size(0)\n",
        "        correct += (predicted == labels).sum().item()\n",
        "\n",
        "print(f'Accuracy of the network on the test data: {100 * correct / total:.2f}%')\n"
      ],
      "metadata": {
        "colab": {
          "base_uri": "https://localhost:8080/"
        },
        "id": "BIL1qfMCevu4",
        "outputId": "a1188ba3-9418-43b5-efe2-dc07b894f677"
      },
      "execution_count": null,
      "outputs": [
        {
          "output_type": "stream",
          "name": "stdout",
          "text": [
            "Accuracy of the network on the test data: 52.00%\n"
          ]
        }
      ]
    },
    {
      "cell_type": "markdown",
      "source": [
        "## CONCLUSION:\n",
        "\n",
        "In overall it concludes that in  RNN with PyTorch involves several key steps. Firstly, we import the necessary libraries. Then, we create a simple dataset with dummy sequential data. Next, we define the RNN model architecture. After that, we set up the loss function and optimizer to guide the learning process. We then train the model using the training data and finally evaluate its performance on new data. This step-by-step approach provides a clear and basic understanding of building and using an RNN in PyTorch."
      ],
      "metadata": {
        "id": "tieBC8kFfCGZ"
      }
    }
  ]
}